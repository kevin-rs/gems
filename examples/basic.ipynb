{
 "cells": [
  {
   "cell_type": "markdown",
   "id": "90feaab5-b830-40a4-8c62-f8c4be4f18a6",
   "metadata": {},
   "source": [
    "# Gems Usage"
   ]
  },
  {
   "cell_type": "markdown",
   "id": "3c9f56b9-20d7-4bf9-baf4-55e1b2971dba",
   "metadata": {},
   "source": [
    "This Jupyter Notebook provides a guide on using the [**`gems`**](https://github.com/wiseaidev/gems) cli and SDK in Rust to interact with the Gemini API. The [**Gemini API**](https://ai.google.dev/docs) allows you to generate creative content using large language models. In this notebook, we'll cover various aspects of using Gemini, including text-only input, text-and-image input, multi-turn conversations, configuration options, streaming content generation, counting tokens, embedding, and model information.\n",
    "\n",
    "Let's start by installing the sdk to run the code snippets in this notebook."
   ]
  },
  {
   "cell_type": "code",
   "execution_count": 4,
   "id": "55c11784-8857-4920-b164-971fb340c58d",
   "metadata": {},
   "outputs": [],
   "source": [
    ":dep gems = { version = \"0.0.3\" }"
   ]
  },
  {
   "cell_type": "markdown",
   "id": "385a825b-a583-47cd-a1a3-7d17ae0d9639",
   "metadata": {},
   "source": [
    "---"
   ]
  },
  {
   "cell_type": "markdown",
   "id": "fb5c3d65-2edb-42a9-b6b4-f6bf635f05eb",
   "metadata": {},
   "source": [
    "## Import SDK"
   ]
  },
  {
   "cell_type": "code",
   "execution_count": 5,
   "id": "0f5c6971-e02f-4354-a9f3-0f7d12d8f8d8",
   "metadata": {},
   "outputs": [],
   "source": [
    "use gems::Client;"
   ]
  },
  {
   "cell_type": "markdown",
   "id": "90631cef-476b-4a79-8026-a0c7691edb1f",
   "metadata": {},
   "source": [
    "## API Key\n",
    "\n",
    "To use the Gemini API, you'll need an API key. If you don't already have one, create a key in [Google AI Studio](https://makersuite.google.com/app/apikey)."
   ]
  },
  {
   "cell_type": "code",
   "execution_count": 6,
   "id": "89736983-463e-4bcc-86fb-508c64f1ab72",
   "metadata": {},
   "outputs": [],
   "source": [
    "fn config() -> (String, String) {\n",
    "    let api_key = \"Your_API_Key\";\n",
    "    let model = \"gemini-pro\";\n",
    "    (api_key.to_string(), model.to_string())\n",
    "}"
   ]
  },
  {
   "cell_type": "markdown",
   "id": "02d3615e-4865-4637-8829-48192e67da84",
   "metadata": {},
   "source": [
    "## 1. Text-Only Input"
   ]
  },
  {
   "cell_type": "markdown",
   "id": "22523792-0e0d-4c3e-83b6-8764cd800718",
   "metadata": {},
   "source": [
    "To generate content using only text input, you can use the [**`generate_content`**](https://docs.rs/gems/latest/gems/client/struct.Client.html#method.generate_content) method with the `gemini-pro` model. Replace `Your_API_Key` above with your actual API key."
   ]
  },
  {
   "cell_type": "code",
   "execution_count": 5,
   "id": "3ca6c818-63b7-4642-b233-7a47b6354cb9",
   "metadata": {},
   "outputs": [
    {
     "name": "stdout",
     "output_type": "stream",
     "text": [
      "In the bustling city of Willow Creek, resided an ordinary schoolboy named Ethan. Little did he know that his ordinary life was about to take an extraordinary turn.\n",
      "\n",
      "One sunny morning, as Ethan rummaged through his attic, he stumbled upon a dusty old backpack. Its faded fabric was adorned with intricate symbols and worn straps hinted at its forgotten journey. Curiosity ignited within Ethan, and he couldn't resist the urge to open it.\n",
      "\n",
      "To his astonishment, the backpack didn't contain textbooks or pencils, but an assortment of shimmering objects. There was a translucent orb that emitted a soft glow, a quill that seemed to write by itself, and a compass that pointed not to magnetic north, but to distant realms.\n",
      "\n"
     ]
    }
   ],
   "source": [
    "let input_text = \"Write a story about a magic backpack.\";\n",
    "        \n",
    "let mut client = Client::new(&config().0, &config().1);\n",
    "let response = client.generate_content(&input_text).await?;\n",
    "\n",
    "println!(\"{}\", response);"
   ]
  },
  {
   "cell_type": "markdown",
   "id": "e7528cab-8062-45f6-8c06-2f11bc3b7fd5",
   "metadata": {},
   "source": [
    "## 2. Streaming Content"
   ]
  },
  {
   "cell_type": "markdown",
   "id": "84cd771f-8b42-4994-9a3c-9c11639013ac",
   "metadata": {},
   "source": [
    "By default, the model returns a response after completing the entire generation process. You can achieve faster interactions by not waiting for the entire result and instead use streaming to handle partial results."
   ]
  },
  {
   "cell_type": "code",
   "execution_count": 5,
   "id": "b2168bc8-f031-49ee-a5ba-e8439e75a73f",
   "metadata": {},
   "outputs": [
    {
     "name": "stdout",
     "output_type": "stream",
     "text": [
      "In the quaint town of Willow Creek, resided a humble young girl named Lily. Like many children her age, Lily yearned for something extraordinary in her life. Little did she know that her ordinary backpack held a secret that would soon ignite her imagination.\n",
      "\n",
      "One fateful morning, as Lily reached for her backpack to prepare for school, she noticed a peculiar glimmer emanating from within. Curiosity got the better of her, and she slowly unzipped the main compartment. To her astonishment, a vibrant glow filled the interior, revealing an array of iridescent compartments and a soft,\n"
     ]
    }
   ],
   "source": [
    "let input_text = \"Write a story about a magic backpack.\";\n",
    "            \n",
    "let mut client = Client::new(&config().0, &config().1);\n",
    "client.stream_generate_content(&input_text).await?;"
   ]
  },
  {
   "cell_type": "markdown",
   "id": "ef62ee54-bcf6-4f6e-bbdc-7e609cfe1896",
   "metadata": {},
   "source": [
    "## 3. Counting Tokens"
   ]
  },
  {
   "cell_type": "markdown",
   "id": "7e626c74-851a-4819-8068-cdc8f7067505",
   "metadata": {},
   "source": [
    "When using long prompts, it might be useful to count tokens before sending any content to the model."
   ]
  },
  {
   "cell_type": "code",
   "execution_count": 5,
   "id": "5dad11e6-bf8a-4010-a424-4462ab82fca0",
   "metadata": {},
   "outputs": [
    {
     "data": {
      "text/plain": [
       "8"
      ]
     },
     "execution_count": 5,
     "metadata": {},
     "output_type": "execute_result"
    }
   ],
   "source": [
    "let input_text = \"Write a story about a magic backpack.\";\n",
    "        \n",
    "let mut client = Client::new(&config().0, &config().1);\n",
    "let count = client.count_tokens(&input_text).await?;\n",
    "\n",
    "count"
   ]
  },
  {
   "cell_type": "markdown",
   "id": "6db72ce1-236e-4d63-8a45-e97774dfa5ac",
   "metadata": {},
   "source": [
    "## 4. Embedding\n",
    "\n",
    "Embedding is a technique used to represent information as a list of floating point numbers in an array. With `gems`, you can represent text in a vectorized form. The following code demonstrates embedding text."
   ]
  },
  {
   "cell_type": "code",
   "execution_count": 5,
   "id": "3dd79334-6418-44f4-9b2d-6adb7f70a5c6",
   "metadata": {},
   "outputs": [
    {
     "data": {
      "text/plain": [
       "EmbedContentResponse { embedding: Some(Embedding { values: [0.009476273, -0.019687243, -0.011098589, -0.034775592, 0.029922156, 0.0060428665, 0.034931365, -0.008551198, 0.0013192123, 0.024777578, 0.046632342, 0.026483634, -0.015854795, -0.05858745, -0.015976168, 0.0029371793, 0.0013299625, 0.014278987, 0.0024143087, -0.02217367, 0.043661673, 0.027362542, -0.015368169, -0.00505813, 0.012748782, -0.038917016, 0.018374085, -0.042541504, -0.028942386, 0.06261236, -0.067924805, 0.014551717, -0.053778615, 0.01141589, 0.054376498, -0.07349987, 0.027020264, 0.02435833, -0.010208711, 0.03775074, 7.8535166e-5, -0.05600432, -0.05658425, -0.03286134, 0.068215765, -0.010439384, 3.592222e-5, 0.019630756, 0.035534997, -0.07380811, 0.03870504, 0.025727691, 0.054990225, -0.042088285, 0.0012553792, -0.050358303, 0.04884924, 0.0179448, -0.047910437, 0.0025538239, 0.020576641, -0.0015202799, -0.005464859, 0.06964294, 0.0051593115, -0.018910648, -0.056517914, 0.04711997, 0.07246105, -0.046476442, 0.028854087, -0.04071371, 0.016074566, -0.03639407, -0.038974106, -0.050548133, -0.015594376, 0.06563484, -0.007890941, -0.010405212, -0.0706037, -0.046687435, -0.018019725, -0.034351617, -0.08341614, 0.04962789, -0.0409416, 0.023683012, -0.015798943, 0.06961661, 0.011531931, -0.028769175, 0.019124072, -0.0521313, -0.041698113, 0.024287181, -0.014753012, -0.021988042, -0.0028918276, -0.042852033, 0.008805375, -0.045830406, -0.034228012, -0.027071003, 0.014857584, 0.016351543, -0.02289207, 0.035158824, -0.040078655, 0.059884943, -0.049290814, 0.04040505, -0.01481324, -0.023690961, 0.033504374, -0.011705, -0.025190305, 0.103959255, 0.02103969, 0.06822471, -0.024689233, 0.0017861356, 0.05382589, -0.01240797, 0.021360684, 0.039446745, 0.01077481, 0.04969714, 0.047977697, 0.023029674, -0.0005280189, -0.014304868, 0.042751502, 0.019321635, 0.029466782, 0.04380604, 0.06079528, 0.014855287, 0.043663282, 0.010642515, -0.025349813, 0.015023247, 0.0031549355, 0.036529712, -0.017479714, 0.0320924, -0.0035744563, -0.05600001, 0.016187798, -0.0310299, -0.0031940078, -0.033683162, -0.049631633, 0.0058773104, 0.07175059, 0.017876906, -0.032968145, 0.004627863, 0.036170144, 0.0048463284, 0.058307353, -0.017876113, 0.068418816, -0.021233702, -0.03995326, -0.034584057, 0.004580017, 0.006600246, -0.027722912, -0.011597125, -0.004257211, -0.019063244, -0.047937825, -0.0594411, 0.004170789, -0.07521961, 0.030258847, -0.017092971, -0.036624327, -0.030788733, -0.0255002, -0.044247076, -0.0033986187, 0.02010333, 0.0020856825, -0.015302933, 0.04871223, -0.0054424764, -0.019463068, -0.0042897225, 0.004675745, -0.010047809, 0.0054037776, 0.024767656, 0.0043886183, 0.026725749, -0.058019392, 0.023415543, 0.0029455412, -0.050186787, 0.026860034, 0.081600085, 0.029667776, 0.0060525686, 0.06545254, -0.039767954, 0.078707494, -0.034776386, -0.0026361246, 0.056920636, -0.03993924, 0.0040785754, -0.041988365, -0.009354886, 0.035060067, 0.021648712, 0.0058867307, 0.032554712, -0.010174467, -0.012079041, -0.017432999, -0.009913959, -0.048756562, -0.0004901928, 0.033902064, 0.04606474, -0.026793543, 0.004224005, -0.0049294685, -0.04138944, -0.002322702, 0.046489242, -0.029646818, -0.055154845, 0.050373916, 0.001498039, -0.029105326, 0.015816785, 0.022662748, 0.04528034, -0.07551649, 0.032660235, 0.056049027, 0.0484467, -0.040490102, -0.031480238, -0.034226242, 0.018825466, -0.016459275, 0.014760447, -0.023159254, -0.033319633, 0.045091763, 0.03907198, -0.080961674, 0.05857383, -0.056699682, 0.007105884, 0.00359407, 0.026098676, 0.04672837, 0.0017687834, 0.044798367, 0.04026776, -0.047271412, 0.034580693, 0.03398564, -0.042459726, -0.016039101, 0.0014287933, -0.013519408, -0.04337401, 0.117180586, 0.030693222, -0.03300196, 0.038635734, -0.028919652, 0.012217962, 0.030068837, -0.031572264, -0.004290515, 0.0361428, 0.030716667, -0.04750145, -0.009317334, -0.02769593, -0.028953228, 0.013448961, 0.024985174, -0.046222623, -0.062324114, -0.028737146, 0.013524066, -0.024231572, -0.03839299, 0.0044834423, 0.003927303, 0.0140175745, 0.0252886, 0.006967192, -0.0032533552, 0.018378105, -0.00064109487, -0.100239895, -0.008622791, -0.022465073, -0.01318172, -0.027714796, -0.004891077, 0.02102712, -0.033993557, -0.020683082, -0.03143021, 0.040428996, 0.04109468, 0.037252743, -0.015110158, 0.05372151, -0.028233623, 0.03893738, -0.012977493, 0.11442578, 0.013680653, -0.010880588, -0.007219404, 0.0018412373, -0.011184421, 0.053635325, 0.009343743, -0.01754336, -0.00855859, 0.019289706, -0.020789485, -0.0046987953, 0.026262337, 0.018729946, -0.021172542, 0.032778136, -0.019508712, -0.023191795, 0.006048745, 0.029666275, -0.0316603, -0.046406627, -0.013226207, 0.0056801382, 0.0037621881, 0.031613547, 0.059852537, 0.030394683, -0.008425689, 0.102569215, -0.0533942, 0.0021394016, 0.007910382, -0.029755466, 0.072770655, 0.020398604, 0.053144984, -0.02712311, -0.035410415, 0.05313318, 0.0147087835, 0.02848968, -0.028592665, 0.027272107, 0.01857633, 0.007830472, -0.041772548, 0.032397415, 0.015303661, -0.05231894, 0.0024821633, -0.016740562, -0.0076842597, -0.027352199, -0.03367022, -0.007223255, -0.02119646, 0.018187232, -0.0201897, -0.021552524, 0.029075237, 0.014314224, 0.03545369, -0.05623962, 0.007321401, 0.036606237, 0.0064881607, 0.0116421115, 0.024620602, 0.0023403224, 0.098029576, 0.043524597, -0.024256257, -0.017820267, -0.028721418, -0.057962254, -0.016261518, -0.045342136, -0.0122084245, -0.019221755, -0.025397658, -0.024023607, -0.008979771, -0.039271723, -0.027647663, 0.008565045, -0.011769694, -0.03671938, 0.027940547, 0.025353841, 0.042459752, -0.071196124, -0.065720454, -0.046725053, 0.085156895, -0.0064853337, -0.016099542, 0.0061621545, 0.01797112, 0.0127089955, -0.0020263176, -0.032197505, -0.03044462, -0.043285467, -0.023286056, 0.015058782, -0.03833554, 0.02012388, 0.023682073, -0.014249564, -0.0022851287, -0.013300003, -0.04500258, -0.08449589, 0.031708725, 0.019285716, -0.042630948, 0.007896234, -0.017545793, -0.0033564793, 0.05756835, 0.0053464626, -0.07365411, -0.0078652175, -0.02985884, -0.059394825, 0.024798177, -0.114819996, 0.00447617, -0.102006, 0.010799668, -0.04774369, -0.011951676, -0.072370425, 0.03420175, 0.07717997, -0.008941542, 0.036185503, -0.024240425, -0.0047069504, -0.038308732, -0.068170495, 0.030602554, -0.03391976, 0.048206832, 0.0015872346, 0.063636065, 0.018057084, 0.023516078, -0.024648814, 0.020841587, 0.04621251, -0.0040684096, 0.014343195, -0.10031749, 0.01717169, -0.0056183143, -0.013393739, 0.006449744, 0.024943827, 0.021071387, 0.02622419, 0.0028784564, 0.005601725, 0.020059703, -0.036917962, -0.041559454, 0.06408969, -0.005067154, 0.007161687, -0.010713885, -0.030453188, -0.0052969004, 0.013080536, -0.0029811147, 0.000794075, 0.03805474, 0.035907444, -0.035494942, 0.0031240894, 0.0028654032, -0.005589371, 0.05225562, -0.056982238, 0.012500218, -0.0044816188, -0.0013066573, -0.010722139, 0.020816721, 0.0137992315, 0.008061792, 0.004266485, 0.036253028, 0.022911338, -0.012055317, 0.01415406, 0.007394465, 0.0549784, 0.065919295, -0.0024105944, -0.09911387, -0.018961718, -0.009668793, -0.0694936, 0.032317046, 0.033424314, -0.027271306, 0.017829528, -0.027626783, 0.10326915, -0.05815887, 0.011481767, -0.024524642, -0.022727057, -0.0025717516, 0.061384335, 0.047565512, -0.020145854, 0.05449831, -0.02235033, 0.044225533, 0.015149468, -0.004232257, 0.015497244, 0.02196959, -0.11441486, 0.037310954, 0.0068895165, -0.03327469, -0.03763772, 0.016550677, -0.009706555, -0.0021718622, -0.019295821, -0.045745302, 0.019787852, 0.010460253, 0.028574165, 0.0039025727, -0.029176444, 0.0045661684, 0.017801613, 0.069770396, 0.03316881, -0.052049547, 0.025341013, 0.08210872, -0.0123969605, 0.0028876094, 0.012139291, 0.037683096, 0.010877664, 0.038233507, -0.047487415, -0.0070513985, 0.009222458, -0.014057173, -0.0055107414, 0.061746977, 0.027539311, 0.012500272, 0.056390084, -0.02450059, 0.050375205, 0.018454622, -0.028471483, 0.04073221, 0.0010262707, 0.006644293, 0.058987767, -0.013000802, 0.011046527, -0.01824359, 0.012343821, -0.034848142, 0.021323517, 0.0095110815, -0.008250182, 0.029336736, -0.021708064, 0.08347386, -0.042969372, 0.0040884214, 0.00707863, -0.017423764, -0.0009017369, -0.0016394196, 0.027122885, 0.024288407, -0.033792727, 0.022208055, -0.045094665, -0.029056828, -0.027881369, 0.03934331, -0.017459298, -0.016413057, -0.024602406, 0.011726841, -0.028692286, -0.02612297, -9.012729e-5, 0.056483414, 0.0084462715, -0.006458368, -0.014558329, 0.028976649, 0.040371522, 0.045138896, 0.066497445, 0.013638197, 0.00094136206, -0.019841451, 0.0051653194, 0.0031854145, -0.02863599, 0.049030554, -0.03460343, -0.118364125, 0.035793994, 0.05812532, -0.022218475, 0.0025464452, 0.07917781, -0.011187655, -0.06375478, -0.015327459, 0.018781679, -0.019706942, -0.0032393064, -0.00974613, 0.0027810617, -0.016743101, 0.0010972525, -0.010742821, -0.02031478, 0.028358847, -0.004896531, -0.06163314, 0.008880972, 0.02444979, 0.010133303, -0.01742133, -0.0406719, -0.038936403, -0.062970035, -0.009797045, 0.06229707, -0.056052256, 0.022727571, 0.06305603, -0.029953437, -0.0148694655, 0.018242324, -0.025652751, 0.017524423, -0.00241647, 0.022647873, -0.013818434, -0.052388366, -0.025179503, 0.009702297, 0.0147252595, 0.018389946, 0.02360233, -0.010542118, -0.010123083, -0.0123983165, 0.007831864, -0.008904589, -0.043948174, -0.0038047826, 0.06672286, -0.0036268355, -0.010144576, -0.0068466086, 0.009912525, 0.05225545, -0.0018969746, -0.0380801, 0.010520254, -0.005647451, 0.004597661, 0.056180894, -0.0089960145, -0.0016758434, 0.004622133, -0.0014965563, 0.05230069, -0.004952212, -0.07225292, 0.031560168, 0.009543383, -0.026818546, 0.03615956, 0.015445142, -0.047456577, 0.04623814, 0.055772055, 0.005916063, 0.050812434, -0.04941491, -0.038975198, 0.029051889, -0.056766886, 0.02133837, -0.044463042, -0.053622562, 0.092840895, -0.014424224, 0.009232082, 0.022991626, -0.028679136, 0.049662832, 0.0031611845, 0.033451527, -0.0007183697, -0.075942166, -0.068807274, -0.03238624, 0.024955755, 0.059705835, 0.041937165, -0.018272344, -0.0019791536, -0.0035955408, -0.0011296741, -0.04040754, -0.041002568, 0.015018306, -0.03112456, 0.071435116, 0.052255977, 0.022815332, -0.030742725, 0.03537479, 0.021704886, 0.012022767, -0.025343368, 0.017459199, -0.007914044, 0.019922, 0.009294984, 0.0057811732, 0.001595443, 2.6458169e-5] }) }"
      ]
     },
     "execution_count": 5,
     "metadata": {},
     "output_type": "execute_result"
    }
   ],
   "source": [
    "let input_text = \"Hello\";\n",
    "        \n",
    "let mut client = Client::new(&config().0, &\"embedding-001\");\n",
    "let embed = client.embed_content(&input_text).await?;\n",
    "\n",
    "embed"
   ]
  },
  {
   "cell_type": "markdown",
   "id": "b9c5f484-3c35-47f2-ae3e-ebbf6465c53d",
   "metadata": {},
   "source": [
    "## 5. Model Information\n",
    "\n",
    "Your can retrieve information about the current model being used by the client."
   ]
  },
  {
   "cell_type": "code",
   "execution_count": 11,
   "id": "4c8326e5-03d9-4a02-8194-1573712ac234",
   "metadata": {},
   "outputs": [
    {
     "name": "stdout",
     "output_type": "stream",
     "text": [
      "\n",
      "Model:\n",
      "    Name: gemini-pro\n",
      "    Version: 001\n",
      "    Display Name: Gemini 1.0 Pro\n",
      "    Description: The best model for scaling across a wide range of tasks\n",
      "    Input Token Limit: 30720\n",
      "    Output Token Limit: 2048\n",
      "    Supported Generation Methods: [\"generateContent\", \"countTokens\"]\n",
      "    Temperature: Some(0.9)\n",
      "    Top P: Some(1.0)\n",
      "    Top K: Some(1)\n",
      "\n"
     ]
    }
   ],
   "source": [
    "let mut client = Client::new(&config().0, &config().1);\n",
    "let model_info = client.get_model_info().await?;\n",
    "\n",
    "model_info.print();"
   ]
  },
  {
   "cell_type": "markdown",
   "id": "e5428ce9-7642-409a-a48e-3c83268eba6d",
   "metadata": {},
   "source": [
    "## 6. Models Information\n",
    "\n",
    "You can retrieve information about all available models."
   ]
  },
  {
   "cell_type": "code",
   "execution_count": 7,
   "id": "066a8994-8bb9-4766-b2a5-9c2e9033bee3",
   "metadata": {},
   "outputs": [
    {
     "name": "stdout",
     "output_type": "stream",
     "text": [
      "\n",
      "Model:\n",
      "    Name: chat-bison-001\n",
      "    Version: 001\n",
      "    Display Name: PaLM 2 Chat (Legacy)\n",
      "    Description: A legacy text-only model optimized for chat conversations\n",
      "    Input Token Limit: 4096\n",
      "    Output Token Limit: 1024\n",
      "    Supported Generation Methods: [\"generateMessage\", \"countMessageTokens\"]\n",
      "    Temperature: Some(0.25)\n",
      "    Top P: Some(0.95)\n",
      "    Top K: Some(40)\n",
      "\n",
      "\n",
      "Model:\n",
      "    Name: text-bison-001\n",
      "    Version: 001\n",
      "    Display Name: PaLM 2 (Legacy)\n",
      "    Description: A legacy model that understands text and generates text as an output\n",
      "    Input Token Limit: 8196\n",
      "    Output Token Limit: 1024\n",
      "    Supported Generation Methods: [\"generateText\", \"countTextTokens\", \"createTunedTextModel\"]\n",
      "    Temperature: Some(0.7)\n",
      "    Top P: Some(0.95)\n",
      "    Top K: Some(40)\n",
      "\n",
      "\n",
      "Model:\n",
      "    Name: embedding-gecko-001\n",
      "    Version: 001\n",
      "    Display Name: Embedding Gecko\n",
      "    Description: Obtain a distributed representation of a text.\n",
      "    Input Token Limit: 1024\n",
      "    Output Token Limit: 1\n",
      "    Supported Generation Methods: [\"embedText\", \"countTextTokens\"]\n",
      "    Temperature: None\n",
      "    Top P: None\n",
      "    Top K: None\n",
      "\n",
      "\n",
      "Model:\n",
      "    Name: gemini-1.0-pro\n",
      "    Version: 001\n",
      "    Display Name: Gemini 1.0 Pro\n",
      "    Description: The best model for scaling across a wide range of tasks\n",
      "    Input Token Limit: 30720\n",
      "    Output Token Limit: 2048\n",
      "    Supported Generation Methods: [\"generateContent\", \"countTokens\"]\n",
      "    Temperature: Some(0.9)\n",
      "    Top P: Some(1.0)\n",
      "    Top K: Some(1)\n",
      "\n",
      "\n",
      "Model:\n",
      "    Name: gemini-1.0-pro-001\n",
      "    Version: 001\n",
      "    Display Name: Gemini 1.0 Pro 001 (Tuning)\n",
      "    Description: The best model for scaling across a wide range of tasks. This is a stable model that supports tuning.\n",
      "    Input Token Limit: 30720\n",
      "    Output Token Limit: 2048\n",
      "    Supported Generation Methods: [\"generateContent\", \"countTokens\", \"createTunedModel\"]\n",
      "    Temperature: Some(0.9)\n",
      "    Top P: Some(1.0)\n",
      "    Top K: Some(1)\n",
      "\n",
      "\n",
      "Model:\n",
      "    Name: gemini-1.0-pro-latest\n",
      "    Version: 001\n",
      "    Display Name: Gemini 1.0 Pro Latest\n",
      "    Description: The best model for scaling across a wide range of tasks. This is the latest model.\n",
      "    Input Token Limit: 30720\n",
      "    Output Token Limit: 2048\n",
      "    Supported Generation Methods: [\"generateContent\", \"countTokens\"]\n",
      "    Temperature: Some(0.9)\n",
      "    Top P: Some(1.0)\n",
      "    Top K: Some(1)\n",
      "\n",
      "\n",
      "Model:\n",
      "    Name: gemini-1.0-pro-vision-latest\n",
      "    Version: 001\n",
      "    Display Name: Gemini 1.0 Pro Vision\n",
      "    Description: The best image understanding model to handle a broad range of applications\n",
      "    Input Token Limit: 12288\n",
      "    Output Token Limit: 4096\n",
      "    Supported Generation Methods: [\"generateContent\", \"countTokens\"]\n",
      "    Temperature: Some(0.4)\n",
      "    Top P: Some(1.0)\n",
      "    Top K: Some(32)\n",
      "\n",
      "\n",
      "Model:\n",
      "    Name: gemini-pro\n",
      "    Version: 001\n",
      "    Display Name: Gemini 1.0 Pro\n",
      "    Description: The best model for scaling across a wide range of tasks\n",
      "    Input Token Limit: 30720\n",
      "    Output Token Limit: 2048\n",
      "    Supported Generation Methods: [\"generateContent\", \"countTokens\"]\n",
      "    Temperature: Some(0.9)\n",
      "    Top P: Some(1.0)\n",
      "    Top K: Some(1)\n",
      "\n",
      "\n",
      "Model:\n",
      "    Name: gemini-pro-vision\n",
      "    Version: 001\n",
      "    Display Name: Gemini 1.0 Pro Vision\n",
      "    Description: The best image understanding model to handle a broad range of applications\n",
      "    Input Token Limit: 12288\n",
      "    Output Token Limit: 4096\n",
      "    Supported Generation Methods: [\"generateContent\", \"countTokens\"]\n",
      "    Temperature: Some(0.4)\n",
      "    Top P: Some(1.0)\n",
      "    Top K: Some(32)\n",
      "\n",
      "\n",
      "Model:\n",
      "    Name: embedding-001\n",
      "    Version: 001\n",
      "    Display Name: Embedding 001\n",
      "    Description: Obtain a distributed representation of a text.\n",
      "    Input Token Limit: 2048\n",
      "    Output Token Limit: 1\n",
      "    Supported Generation Methods: [\"embedContent\"]\n",
      "    Temperature: None\n",
      "    Top P: None\n",
      "    Top K: None\n",
      "\n",
      "\n",
      "Model:\n",
      "    Name: aqa\n",
      "    Version: 001\n",
      "    Display Name: Model that performs Attributed Question Answering.\n",
      "    Description: Model trained to return answers to questions that are grounded in provided sources, along with estimating answerable probability.\n",
      "    Input Token Limit: 7168\n",
      "    Output Token Limit: 1024\n",
      "    Supported Generation Methods: [\"generateAnswer\"]\n",
      "    Temperature: Some(0.2)\n",
      "    Top P: Some(1.0)\n",
      "    Top K: Some(40)\n",
      "\n"
     ]
    }
   ],
   "source": [
    "let mut client = Client::new(&config().0, &config().1);\n",
    "\n",
    "let models = client.list_models().await?;\n",
    "models.print();"
   ]
  },
  {
   "cell_type": "markdown",
   "id": "5e684241-637f-4a7e-8822-ff6b4715b7e3",
   "metadata": {},
   "source": [
    "---"
   ]
  },
  {
   "cell_type": "markdown",
   "id": "df81b74f-dbec-45e7-bce6-e7b7ef819044",
   "metadata": {},
   "source": [
    "## Gems CLI\n",
    "### Shell Command Execution"
   ]
  },
  {
   "cell_type": "code",
   "execution_count": 6,
   "id": "e71120c7-2889-4463-bfb5-590522482ab9",
   "metadata": {},
   "outputs": [],
   "source": [
    "use std::process::{Command, Output, Stdio};\n",
    "\n",
    "// A helper function to execute a shell command from a Rust script\n",
    "fn execute_command(command: &str) -> Result<(), std::io::Error> {\n",
    "    let status = Command::new(\"bash\")\n",
    "        .arg(\"-c\")\n",
    "        .arg(command)\n",
    "        .stderr(Stdio::inherit())\n",
    "        .status()?;\n",
    "\n",
    "    if status.success() {\n",
    "        Ok(())\n",
    "    } else {\n",
    "        Err(std::io::Error::from_raw_os_error(status.code().unwrap_or(1)))\n",
    "    }\n",
    "}"
   ]
  },
  {
   "cell_type": "code",
   "execution_count": 13,
   "id": "7aeae451-2ff7-47c1-a5bf-58e9876eec59",
   "metadata": {},
   "outputs": [
    {
     "name": "stdout",
     "output_type": "stream",
     "text": [
      "gems 0.0.3\n",
      "\n",
      "💎 GEMS\n",
      "=======\n",
      "\n",
      "A command-line tool for interacting with the Google Gemini API.\n",
      "\n",
      "FUNCTIONALITIES:\n",
      "  - Generate Content: Generate content using the Gemini API.\n",
      "  - Stream Generate Content: Stream content generation using the Gemini API.\n",
      "  - Count Tokens: Count tokens in a given text using the Gemini API.\n",
      "  - Embed Content: Embed content using the Gemini API.\n",
      "  - Batch Embed Contents: Batch embed contents using the Gemini API.\n",
      "  - Get Model Info: Get information about the model from the Gemini API.\n",
      "  - List Models: List available models from the Gemini API.\n",
      "\n",
      "USAGE:\n",
      "  gems [OPTIONS] <COMMAND>\n",
      "\n",
      "EXAMPLES:\n",
      "  Generate content:\n",
      "    gems generate -t \"Hello\"\n",
      "\n",
      "  Stream generate content:\n",
      "    gems stream -t \"Generate a short fictional story\"\n",
      "\n",
      "  Count tokens:\n",
      "    gems count -t \"Hello There!\"\n",
      "\n",
      "  Embed content:\n",
      "    gems -m 'embedding-001' embed -t \"Write a story about a magic backpack.\"\n",
      "\n",
      "  Batch embed contents:\n",
      "    gems -m 'embedding-001' batch -t \"Write a story about a magic backpack.\",\"Generate a poem about nature.\"\n",
      "\n",
      "  Get model info:\n",
      "    gems info\n",
      "\n",
      "  List models:\n",
      "    gems list\n",
      "\n",
      "For more information, visit: github.com/wiseaidev/gems\n",
      "\n",
      "\n",
      "\n",
      "Usage: gems [OPTIONS] <COMMAND>\n",
      "\n",
      "Commands:\n",
      "  generate  \n",
      "  stream    \n",
      "  count     \n",
      "  embed     \n",
      "  batch     \n",
      "  info      \n",
      "  list      \n",
      "  help      Print this message or the help of the given subcommand(s)\n",
      "\n",
      "Options:\n",
      "  -a, --api-key <API_KEY>  API key for authentication\n",
      "  -m, --model <MODEL>      Model to be used\n",
      "  -h, --help               Print help\n",
      "  -V, --version            Print version\n",
      "\n",
      "AUTHORS:\n",
      "    Mahmoud Harmouch\n"
     ]
    },
    {
     "data": {
      "text/plain": [
       "()"
      ]
     },
     "execution_count": 13,
     "metadata": {},
     "output_type": "execute_result"
    }
   ],
   "source": [
    "let command = \"../target/release/gems --help\";\n",
    "\n",
    "if let Err(err) = execute_command(command) {\n",
    "    eprintln!(\"Error executing command: {}\", err);\n",
    "}"
   ]
  },
  {
   "cell_type": "markdown",
   "id": "889449a2-22d1-42f9-97b1-bd8e5ff4fd9a",
   "metadata": {},
   "source": [
    "## 1. Text-Only Input"
   ]
  },
  {
   "cell_type": "code",
   "execution_count": 8,
   "id": "483490a1-440b-4e83-8429-a87b16dfb1b5",
   "metadata": {},
   "outputs": [
    {
     "name": "stdout",
     "output_type": "stream",
     "text": [
      "Hello there! How can I assist you today?\n"
     ]
    },
    {
     "data": {
      "text/plain": [
       "()"
      ]
     },
     "execution_count": 8,
     "metadata": {},
     "output_type": "execute_result"
    }
   ],
   "source": [
    "let command = \"GEMINI_API_KEY=Your_API_Key ../target/release/gems generate -t hello\";\n",
    "\n",
    "if let Err(err) = execute_command(command) {\n",
    "    eprintln!(\"Error executing command: {}\", err);\n",
    "}\n",
    "\n",
    "// Replace Your_API_Key above with your actual API key"
   ]
  },
  {
   "cell_type": "markdown",
   "id": "404c5487-075f-4eef-8d5f-2c47c1671921",
   "metadata": {},
   "source": [
    "## 2. Streaming Content"
   ]
  },
  {
   "cell_type": "code",
   "execution_count": 7,
   "id": "e9788fee-9de3-4d89-89f3-2a23fb5730a4",
   "metadata": {},
   "outputs": [
    {
     "name": "stdout",
     "output_type": "stream",
     "text": [
      "In the ancient city of Eldoria, where shadows danced amidst crumbling ruins, there lived a young woman named Anya. Her heart, once alight with hope, had grown heavy with despair.\n",
      "\n",
      "One fateful night, as the moon cast an eerie glow upon the desolate streets, Anya stumbled upon a forgotten scroll. Curiosity consumed her, and she cautiously unrolled it. As her eyes scanned the faded ink, a surge of ancient magic coursed through her veins.\n",
      "\n",
      "Whispering incantations echoed through the empty streets, summoning a spectral companion. A shimmering, translucent figure emerged, its eyes glowing with an ethereal light. The spirit, known as Lyria, introduced herself as the guardian of forgotten knowledge.\n",
      "\n",
      "Together, Anya and Lyria embarked on a perilous journey through Eldoria's haunted past. They uncovered secrets that had long been buried, and faced ancient horrors that lurked in the shadows. Anya's courage grew with each challenge, as she realized that even in her darkest hour, hope could be found in the most unexpected of places.\n",
      "\n",
      "As they delved deeper into their quest, they discovered a hidden fortress where the lost artifact of the city's founders lay. It was a talisman imbued with the power to banish the darkness that had consumed Eldoria.\n",
      "\n",
      "With trembling hands, Anya reached out for the talisman. As she touched it, a blinding light filled the fortress, illuminating the path to salvation. The spectral warriors that had haunted the city vanished, their spirits finally at rest.\n",
      "\n",
      "In the aftermath of the darkness, Eldoria arose once more, its ancient heart beating with renewed vigor. Anya, once burdened with despair, became a beacon of hope for her people. And so, the tale of the spectral guardian Lyria and the brave Anya was passed down through generations, a testament to the indomitable spirit that could ignite even in the darkest of times.\n"
     ]
    },
    {
     "data": {
      "text/plain": [
       "()"
      ]
     },
     "execution_count": 7,
     "metadata": {},
     "output_type": "execute_result"
    }
   ],
   "source": [
    "let command = \"GEMINI_API_KEY=Your_API_Key ../target/release/gems stream -t 'Generate a short fictional story'\";\n",
    "\n",
    "if let Err(err) = execute_command(command) {\n",
    "    eprintln!(\"Error executing command: {}\", err);\n",
    "}\n",
    "\n",
    "// Replace Your_API_Key above with your actual API key"
   ]
  },
  {
   "cell_type": "markdown",
   "id": "d67d7788-c205-47d2-9807-f7dd87e4efd4",
   "metadata": {},
   "source": [
    "## 3. Counting Tokens"
   ]
  },
  {
   "cell_type": "code",
   "execution_count": 9,
   "id": "db66bca3-e0b3-4866-b0e3-245e634f9d96",
   "metadata": {},
   "outputs": [
    {
     "name": "stdout",
     "output_type": "stream",
     "text": [
      "Token Count: 3\n"
     ]
    },
    {
     "data": {
      "text/plain": [
       "()"
      ]
     },
     "execution_count": 9,
     "metadata": {},
     "output_type": "execute_result"
    }
   ],
   "source": [
    "let command = \"GEMINI_API_KEY=Your_API_Key ../target/release/gems count -t 'Hello There!'\";\n",
    "\n",
    "if let Err(err) = execute_command(command) {\n",
    "    eprintln!(\"Error executing command: {}\", err);\n",
    "}\n",
    "\n",
    "// Replace Your_API_Key above with your actual API key"
   ]
  },
  {
   "cell_type": "markdown",
   "id": "2a974d53-daad-4bca-8e36-767aba6f7b6e",
   "metadata": {},
   "source": [
    "## 4. Embedding"
   ]
  },
  {
   "cell_type": "code",
   "execution_count": 10,
   "id": "85702104-0238-4239-a6a0-a066c0904b5f",
   "metadata": {
    "scrolled": true
   },
   "outputs": [
    {
     "name": "stdout",
     "output_type": "stream",
     "text": [
      "Embed Content: EmbedContentResponse { embedding: Some(Embedding { values: [0.017157698, -0.009304768, -0.011424747, -0.04502796, 0.029878143, -0.0030565269, 0.017518248, -0.0075693163, 0.007452998, 0.017466446, 0.026063697, 0.03482817, -0.046191316, -0.067097895, -0.00023503385, -0.0008330727, 0.0010180156, 0.021856628, -0.0010490817, -0.029992618, 0.026568078, 0.024733061, -0.02426606, -0.003143692, 0.019960329, -0.018889258, 0.017120358, -0.047706086, -0.016391832, 0.054246116, -0.04284491, 0.014248315, -0.043589808, 0.02380504, 0.04900247, -0.06201253, 0.026500314, 0.017773096, -0.002058396, 0.014112543, 0.0056887036, -0.06970403, -0.045285653, -0.03585512, 0.07807963, 6.009344e-5, 0.0037224425, -0.0073976843, 0.023099592, -0.077805914, 0.056325607, 0.020613836, 0.050810684, -0.037942328, 0.0035624355, -0.028433887, 0.06826769, 0.031654887, -0.06150492, 0.013594675, 0.01685844, 0.0050908076, 0.009112097, 0.06446559, 0.0031428407, -0.019058188, -0.0761306, 0.046162587, 0.057444427, -0.041802585, -0.004092306, -0.037762534, 0.023075089, -0.038867567, -0.04730152, -0.06110672, -0.024384027, 0.042529598, -0.016843664, -0.0124156065, -0.07127745, -0.051718593, -0.027918208, -0.041305676, -0.09199118, 0.02551549, -0.040239137, 0.026198719, 0.0033148986, 0.062038656, 0.007492091, -0.036114465, 0.021991571, -0.049407, -0.053001653, 0.0312348, -0.025572116, -0.020206489, -0.0012096512, -0.04796543, 0.006542289, -0.035718773, -0.01815559, -0.034372974, 0.017601904, 0.031816855, -0.0155516835, 0.020632364, -0.03179814, 0.042154554, -0.062547065, 0.05459067, -0.027134173, -0.03058096, 0.027317045, 0.009004256, -0.019468954, 0.1149688, 0.026305003, 0.07202905, -0.039168965, -0.012589252, 0.04742917, -0.009233778, 0.017874219, 0.03283488, 0.008591175, 0.05442863, 0.049789116, 0.0056600943, -0.0060199606, -0.01894773, 0.0396965, 0.02783829, 0.039694414, 0.038898565, 0.0675805, 0.0014927604, 0.023495777, 0.0051103723, -0.03389256, 0.0061607487, -0.005777547, 0.023841081, -0.004192125, 0.03088426, -0.002368017, -0.04387628, 0.014475772, -0.041690458, -0.0035581072, -0.031137533, -0.060791157, -0.0052248198, 0.07049221, -0.0014730766, -0.045827337, 0.014380779, 0.044732194, 0.008042625, 0.03961402, -0.024901817, 0.07246975, -0.0049420907, -0.04685669, -0.035679378, -0.0031937985, -0.002221813, -0.024099443, 0.008677813, -0.0067505967, -0.013183881, -0.048391078, -0.0629367, -0.006531056, -0.06433159, 0.019647682, -0.014120107, -0.042566527, -0.038836397, -0.027864661, -0.04353401, 0.018200131, 0.022874713, 0.0103272805, 0.020237155, 0.058160044, -0.008009391, -0.019296572, 4.501754e-5, -0.005488529, -0.007656824, 0.0011342919, 0.0069518676, 0.011821176, 0.03993512, -0.06662424, 0.030292992, 0.012441949, -0.04781365, 0.04333617, 0.08594247, 0.003278239, -0.003619004, 0.05291583, -0.049095176, 0.07719803, -0.03769547, -0.018162657, 0.061956305, -0.039389607, 0.0059811324, -0.02620418, -0.018397532, 0.040035028, 0.013398432, -0.0014953525, 0.030610725, -0.013698816, -0.013452194, -0.020115588, -0.0115061235, -0.042398944, 0.003690258, 0.020592589, 0.055647813, -0.017820006, 0.0021079436, 0.0075113876, -0.024529422, 0.009636173, 0.04836792, -0.048059214, -0.04675056, 0.04504676, -0.013549376, -0.032998707, 0.026710795, 0.03057267, 0.055661116, -0.06711776, 0.041991986, 0.05031913, 0.047795042, -0.046750072, -0.023419803, -0.04799725, 0.015482308, -0.019778369, 0.0065555307, -0.014485474, -0.012449426, 0.03783633, 0.04611896, -0.06549983, 0.060206544, -0.03601094, 0.0007201862, 0.014157936, 0.017633045, 0.043867055, -0.0040319567, 0.029591376, 0.039805483, -0.058073163, 0.023954699, 0.03161216, -0.040923696, -0.025916195, 0.008563057, -0.029315801, -0.0073770005, 0.11254293, 0.015359743, -0.04408696, 0.03775431, -0.019296745, 0.011323604, 0.03379182, -0.02822005, -0.00051302847, 0.016609186, 0.022189714, -0.037294224, -0.011555541, -0.004243406, -0.023634864, 0.009250326, 0.02903345, -0.042029765, -0.06062062, -0.025741635, 0.011929122, -0.028639091, -0.032761168, 0.015458047, 0.010377734, 0.008634691, 0.0049541825, -0.0034713321, -0.00021425175, -0.0030387996, 0.002793919, -0.08873603, -0.0057998113, -0.0075172274, -0.010757947, -0.03581289, 0.022464667, 0.021056673, -0.02996261, -0.003632091, -0.04922217, 0.049624395, 0.06722696, 0.020484174, 0.013176106, 0.07756051, -0.03516112, 0.03827511, 0.001682375, 0.11940304, 0.0060269344, 0.0008450821, -0.022954836, 0.010952376, -0.011220361, 0.038009357, 0.0135345785, -0.0021612349, 0.011169329, 0.007968227, -0.023201352, -0.0043776855, 0.019697623, -0.0013412436, -0.019437969, 0.036705572, -0.013662438, -0.017637057, -0.028656287, 0.02522674, -0.03144827, -0.039152596, 0.0069062933, 0.012892725, 0.011390178, 0.044298027, 0.043932162, 0.035092264, 0.002786935, 0.09655985, -0.07735384, 0.0016287294, 0.018073436, -0.02531677, 0.04982434, 0.03196541, 0.05697746, -0.011651393, -0.034987804, 0.055906475, 0.0037096918, 0.006721771, -0.011706011, 0.03514682, 0.006331051, 0.0019124004, -0.04042564, 0.03942267, 0.017990544, -0.06669686, 0.009139215, -0.026666433, -0.000333435, -0.034003213, -0.02865816, -0.02015001, -0.008271419, 0.00608287, -0.030480755, -0.011481761, 0.03772564, 0.006072201, 0.030600253, -0.039444454, 0.01291076, 0.046187926, -0.008132962, 0.0029289841, 0.025829263, 0.0041055987, 0.085332274, 0.041449875, -0.016477456, -0.017785916, -0.038597576, -0.06565774, -0.0136792995, -0.037938733, -0.008040283, 0.0053546866, -0.03258127, -0.01348484, -0.031483147, -0.026176482, -0.020008536, 0.012961243, -0.013701171, -0.052677162, 0.03575451, 0.029723747, 0.037894335, -0.06564627, -0.06381427, -0.054179966, 0.09180244, -0.007696435, -0.01664462, 0.0095520485, 0.008234092, 0.015180761, -0.009803376, -0.03666877, -0.027146101, -0.027579676, -0.008525099, 0.0149154505, -0.04009787, 0.00730958, 0.029364381, -0.014224052, -0.010488883, -0.015338049, -0.05979673, -0.07832379, 0.02021768, 0.017707635, -0.06357823, 0.016190743, -0.024741922, -0.0061129117, 0.034486927, 0.0021249827, -0.042517833, -0.024978442, -0.045218617, -0.052839957, 0.017906597, -0.114235654, 0.0014378161, -0.10770057, 0.012436477, -0.059504125, -0.0062510306, -0.0695407, 0.030676467, 0.08040313, 0.0073986626, 0.033693563, -0.032712884, 0.0065838476, -0.038635004, -0.05756379, 0.036184996, -0.04419512, 0.056700405, -0.0031561027, 0.051130317, 0.014650189, 0.02585499, -0.01574544, 0.0202348, 0.030308805, -0.015503245, 0.015390582, -0.093879156, 0.0096454285, 0.00075036695, -0.007176489, 0.013469094, 0.03240755, 0.0032838413, 0.025709566, 0.011246142, -0.0047273426, 0.019406857, -0.035808172, -0.04426572, 0.07075284, 0.004297709, 0.00046687288, -0.039918087, -0.024394035, 0.0003824229, 0.013401243, -0.008327901, 0.014631809, 0.044538546, 0.051398568, -0.032680176, -0.0009451764, -0.0018304691, -0.0053026467, 0.04598567, -0.07753394, 0.008980255, 0.010014053, 0.00088209944, -0.0045441543, 0.014180052, 0.0024968495, 0.0045565637, -0.006816378, 0.043473426, -0.0076153213, -0.0077080764, -0.0076405755, 0.022583425, 0.05826839, 0.08100403, -0.008179365, -0.09906325, -0.025703859, -0.018595226, -0.07816589, 0.00090660487, 0.030667868, -0.019880153, 0.025847018, -0.029573852, 0.104741774, -0.06847388, 0.0114986515, -0.019323515, -0.003499644, 0.0061142794, 0.06062018, 0.03816992, -0.01279431, 0.06322851, -0.012667028, 0.051911216, 0.01340395, -0.0141390795, 0.011048826, 0.023761649, -0.106317416, 0.029591432, 0.0014545383, -0.014919961, -0.016960017, 0.017849347, 0.0014584181, -0.0005962113, -0.0033349711, -0.03298971, 0.012265379, 0.039680514, 0.022486279, 0.031267997, -0.027491344, -0.0045565497, 0.013877897, 0.07142914, 0.02658321, -0.060301054, 0.047201462, 0.06179508, -0.015016247, 0.0028588215, 0.009638162, 0.026908023, -0.0048025157, 0.043790855, -0.04219695, -0.01236278, 0.023081351, -0.022790546, 0.0015806183, 0.06792412, 0.018649012, 0.00021185724, 0.07829786, -0.04630087, 0.06475045, 0.0032734484, -0.021796832, 0.036828075, -0.00011134917, 0.0071846186, 0.0444781, -0.010959109, 0.010874714, -0.034436107, 0.00079501746, -0.011491475, 0.025753632, 0.019746505, 0.003058851, 0.019136691, -0.028657703, 0.10008867, -0.041928403, 0.0101479255, 0.0065566595, -0.024822554, 0.012423793, 0.0018808388, 0.044884145, 0.020734485, -0.03970258, 0.017351016, -0.036010113, -0.029629573, -0.025826745, 0.0425589, -0.0023135694, -0.02972697, -0.015519326, 0.0047912784, -0.028465787, -0.0099590095, 0.0135269575, 0.0580127, -0.00035977023, -0.016815761, -0.022518953, 0.021597644, 0.06152383, 0.058372855, 0.040016994, 0.024872813, 0.0023258163, -0.026703397, 0.017087623, 0.0048076236, -0.028285427, 0.051794138, -0.008329118, -0.11693597, 0.03943009, 0.05851611, -0.03305871, -9.168141e-5, 0.06257764, -0.012777679, -0.0734159, -0.002558206, 0.020720921, -0.002519774, -0.009145392, -0.018789351, 0.0024274995, -0.02659225, 0.0055144853, -0.0043237573, -0.02186574, 0.033378802, -0.007153011, -0.049438123, 0.0033829932, 0.019409176, 0.013974557, -5.385725e-5, -0.045712527, -0.043865684, -0.07471633, -0.00062010024, 0.05757406, -0.055263333, 0.024457736, 0.054380924, -0.024173079, -0.0045539592, 0.016457865, -0.0142548075, 0.015571105, -0.010105861, 0.018859537, -0.012722885, -0.046637133, -0.025867846, 0.002353699, 0.010555977, 0.0051326314, 0.027460512, -0.022581939, -0.023384972, -0.0005583327, 0.023529306, 0.010907135, -0.02422933, -0.006951361, 0.06105044, -0.015151796, -0.007436621, -0.024665946, 0.016406339, 0.07174955, 0.0036187428, -0.047167093, 0.014993019, -0.013807495, 0.019213561, 0.05099522, -0.02502312, -0.0047517573, -0.0030278258, 0.005067864, 0.030914508, -0.022764197, -0.05805428, 0.02511049, 0.008805524, -0.03764427, 0.029279968, 0.024135219, -0.04528248, 0.041471433, 0.040281694, 0.020780478, 0.061765153, -0.042062532, -0.010205944, 0.029340899, -0.043445546, 0.016464306, -0.049924932, -0.05277426, 0.088617936, -0.033321984, 0.02618399, 0.0052506845, -0.0333044, 0.051653825, -0.0006410472, 0.017414344, 0.0014369624, -0.07175494, -0.0843031, -0.026889415, 0.023605824, 0.044797387, 0.036973666, -0.029901296, 0.0027278932, 0.031657387, 0.0012527726, -0.036624894, -0.039948497, 0.013252316, -0.04209667, 0.07992473, 0.033430222, 0.019568311, -0.01983618, 0.022643197, 0.011182591, 0.017822275, -0.032370534, 0.013437045, -0.007889424, 0.027301319, -0.0031953482, 0.00879618, -0.024997815, 0.00020249402] }) }\n"
     ]
    },
    {
     "data": {
      "text/plain": [
       "()"
      ]
     },
     "execution_count": 10,
     "metadata": {},
     "output_type": "execute_result"
    }
   ],
   "source": [
    "let command = \"GEMINI_API_KEY=Your_API_Key ../target/release/gems -m 'embedding-001' embed -t 'hello'\";\n",
    "\n",
    "if let Err(err) = execute_command(command) {\n",
    "    eprintln!(\"Error executing command: {}\", err);\n",
    "}\n",
    "\n",
    "// Replace Your_API_Key above with your actual API key"
   ]
  },
  {
   "cell_type": "markdown",
   "id": "cf108881-7529-4b09-abe2-49c31112b6c7",
   "metadata": {},
   "source": [
    "## 5. Model Information"
   ]
  },
  {
   "cell_type": "code",
   "execution_count": 12,
   "id": "21086c9c-f03b-406f-82c8-1b29f5151378",
   "metadata": {},
   "outputs": [
    {
     "name": "stdout",
     "output_type": "stream",
     "text": [
      "\n",
      "Model:\n",
      "    Name: gemini-pro\n",
      "    Version: 001\n",
      "    Display Name: Gemini 1.0 Pro\n",
      "    Description: The best model for scaling across a wide range of tasks\n",
      "    Input Token Limit: 30720\n",
      "    Output Token Limit: 2048\n",
      "    Supported Generation Methods: [\"generateContent\", \"countTokens\"]\n",
      "    Temperature: Some(0.9)\n",
      "    Top P: Some(1.0)\n",
      "    Top K: Some(1)\n",
      "\n"
     ]
    },
    {
     "data": {
      "text/plain": [
       "()"
      ]
     },
     "execution_count": 12,
     "metadata": {},
     "output_type": "execute_result"
    }
   ],
   "source": [
    "let command = \"GEMINI_API_KEY=Your_API_Key ../target/release/gems info\";\n",
    "\n",
    "if let Err(err) = execute_command(command) {\n",
    "    eprintln!(\"Error executing command: {}\", err);\n",
    "}\n",
    "\n",
    "// Replace Your_API_Key above with your actual API key"
   ]
  },
  {
   "cell_type": "markdown",
   "id": "e06eb943-01ad-4d45-9de2-43296fe42982",
   "metadata": {},
   "source": [
    "## 6. Models Information"
   ]
  },
  {
   "cell_type": "code",
   "execution_count": 13,
   "id": "1a18d3de-c6cb-4d3b-80a3-f4604cf85e2c",
   "metadata": {
    "scrolled": true
   },
   "outputs": [
    {
     "name": "stdout",
     "output_type": "stream",
     "text": [
      "\n",
      "Model:\n",
      "    Name: chat-bison-001\n",
      "    Version: 001\n",
      "    Display Name: PaLM 2 Chat (Legacy)\n",
      "    Description: A legacy text-only model optimized for chat conversations\n",
      "    Input Token Limit: 4096\n",
      "    Output Token Limit: 1024\n",
      "    Supported Generation Methods: [\"generateMessage\", \"countMessageTokens\"]\n",
      "    Temperature: Some(0.25)\n",
      "    Top P: Some(0.95)\n",
      "    Top K: Some(40)\n",
      "\n",
      "\n",
      "Model:\n",
      "    Name: text-bison-001\n",
      "    Version: 001\n",
      "    Display Name: PaLM 2 (Legacy)\n",
      "    Description: A legacy model that understands text and generates text as an output\n",
      "    Input Token Limit: 8196\n",
      "    Output Token Limit: 1024\n",
      "    Supported Generation Methods: [\"generateText\", \"countTextTokens\", \"createTunedTextModel\"]\n",
      "    Temperature: Some(0.7)\n",
      "    Top P: Some(0.95)\n",
      "    Top K: Some(40)\n",
      "\n",
      "\n",
      "Model:\n",
      "    Name: embedding-gecko-001\n",
      "    Version: 001\n",
      "    Display Name: Embedding Gecko\n",
      "    Description: Obtain a distributed representation of a text.\n",
      "    Input Token Limit: 1024\n",
      "    Output Token Limit: 1\n",
      "    Supported Generation Methods: [\"embedText\", \"countTextTokens\"]\n",
      "    Temperature: None\n",
      "    Top P: None\n",
      "    Top K: None\n",
      "\n",
      "\n",
      "Model:\n",
      "    Name: gemini-1.0-pro\n",
      "    Version: 001\n",
      "    Display Name: Gemini 1.0 Pro\n",
      "    Description: The best model for scaling across a wide range of tasks\n",
      "    Input Token Limit: 30720\n",
      "    Output Token Limit: 2048\n",
      "    Supported Generation Methods: [\"generateContent\", \"countTokens\"]\n",
      "    Temperature: Some(0.9)\n",
      "    Top P: Some(1.0)\n",
      "    Top K: Some(1)\n",
      "\n",
      "\n",
      "Model:\n",
      "    Name: gemini-1.0-pro-001\n",
      "    Version: 001\n",
      "    Display Name: Gemini 1.0 Pro 001 (Tuning)\n",
      "    Description: The best model for scaling across a wide range of tasks. This is a stable model that supports tuning.\n",
      "    Input Token Limit: 30720\n",
      "    Output Token Limit: 2048\n",
      "    Supported Generation Methods: [\"generateContent\", \"countTokens\", \"createTunedModel\"]\n",
      "    Temperature: Some(0.9)\n",
      "    Top P: Some(1.0)\n",
      "    Top K: Some(1)\n",
      "\n",
      "\n",
      "Model:\n",
      "    Name: gemini-1.0-pro-latest\n",
      "    Version: 001\n",
      "    Display Name: Gemini 1.0 Pro Latest\n",
      "    Description: The best model for scaling across a wide range of tasks. This is the latest model.\n",
      "    Input Token Limit: 30720\n",
      "    Output Token Limit: 2048\n",
      "    Supported Generation Methods: [\"generateContent\", \"countTokens\"]\n",
      "    Temperature: Some(0.9)\n",
      "    Top P: Some(1.0)\n",
      "    Top K: Some(1)\n",
      "\n",
      "\n",
      "Model:\n",
      "    Name: gemini-1.0-pro-vision-latest\n",
      "    Version: 001\n",
      "    Display Name: Gemini 1.0 Pro Vision\n",
      "    Description: The best image understanding model to handle a broad range of applications\n",
      "    Input Token Limit: 12288\n",
      "    Output Token Limit: 4096\n",
      "    Supported Generation Methods: [\"generateContent\", \"countTokens\"]\n",
      "    Temperature: Some(0.4)\n",
      "    Top P: Some(1.0)\n",
      "    Top K: Some(32)\n",
      "\n",
      "\n",
      "Model:\n",
      "    Name: gemini-pro\n",
      "    Version: 001\n",
      "    Display Name: Gemini 1.0 Pro\n",
      "    Description: The best model for scaling across a wide range of tasks\n",
      "    Input Token Limit: 30720\n",
      "    Output Token Limit: 2048\n",
      "    Supported Generation Methods: [\"generateContent\", \"countTokens\"]\n",
      "    Temperature: Some(0.9)\n",
      "    Top P: Some(1.0)\n",
      "    Top K: Some(1)\n",
      "\n",
      "\n",
      "Model:\n",
      "    Name: gemini-pro-vision\n",
      "    Version: 001\n",
      "    Display Name: Gemini 1.0 Pro Vision\n",
      "    Description: The best image understanding model to handle a broad range of applications\n",
      "    Input Token Limit: 12288\n",
      "    Output Token Limit: 4096\n",
      "    Supported Generation Methods: [\"generateContent\", \"countTokens\"]\n",
      "    Temperature: Some(0.4)\n",
      "    Top P: Some(1.0)\n",
      "    Top K: Some(32)\n",
      "\n",
      "\n",
      "Model:\n",
      "    Name: embedding-001\n",
      "    Version: 001\n",
      "    Display Name: Embedding 001\n",
      "    Description: Obtain a distributed representation of a text.\n",
      "    Input Token Limit: 2048\n",
      "    Output Token Limit: 1\n",
      "    Supported Generation Methods: [\"embedContent\"]\n",
      "    Temperature: None\n",
      "    Top P: None\n",
      "    Top K: None\n",
      "\n",
      "\n",
      "Model:\n",
      "    Name: aqa\n",
      "    Version: 001\n",
      "    Display Name: Model that performs Attributed Question Answering.\n",
      "    Description: Model trained to return answers to questions that are grounded in provided sources, along with estimating answerable probability.\n",
      "    Input Token Limit: 7168\n",
      "    Output Token Limit: 1024\n",
      "    Supported Generation Methods: [\"generateAnswer\"]\n",
      "    Temperature: Some(0.2)\n",
      "    Top P: Some(1.0)\n",
      "    Top K: Some(40)\n",
      "\n"
     ]
    },
    {
     "data": {
      "text/plain": [
       "()"
      ]
     },
     "execution_count": 13,
     "metadata": {},
     "output_type": "execute_result"
    }
   ],
   "source": [
    "let command = \"GEMINI_API_KEY=Your_API_Key ../target/release/gems list\";\n",
    "\n",
    "if let Err(err) = execute_command(command) {\n",
    "    eprintln!(\"Error executing command: {}\", err);\n",
    "}\n",
    "\n",
    "// Replace Your_API_Key above with your actual API key."
   ]
  },
  {
   "cell_type": "markdown",
   "id": "f781559d-bf2c-4b1d-9296-8a23244296fa",
   "metadata": {},
   "source": [
    "---"
   ]
  }
 ],
 "metadata": {
  "kernelspec": {
   "display_name": "Rust",
   "language": "rust",
   "name": "rust"
  },
  "language_info": {
   "codemirror_mode": "rust",
   "file_extension": ".rs",
   "mimetype": "text/rust",
   "name": "Rust",
   "pygment_lexer": "rust",
   "version": ""
  }
 },
 "nbformat": 4,
 "nbformat_minor": 5
}
