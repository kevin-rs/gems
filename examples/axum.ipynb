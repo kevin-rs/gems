{
 "cells": [
  {
   "cell_type": "markdown",
   "id": "90feaab5-b830-40a4-8c62-f8c4be4f18a6",
   "metadata": {},
   "source": [
    "# Gems Axum Usage"
   ]
  },
  {
   "cell_type": "markdown",
   "id": "3c9f56b9-20d7-4bf9-baf4-55e1b2971dba",
   "metadata": {},
   "source": [
    "This Jupyter Notebook provides a guide on using the [**`gems`**](https://github.com/wiseaidev/gems) SDK and the Axum framework in Rust to interact with the Gemini API. The [**Gemini API**](https://ai.google.dev/docs) allows you to generate creative content using large language models. In this notebook, we'll cover various aspects of using Gemini, including text-only input, text-and-image input, multi-turn conversations, configuration options, streaming content generation, counting tokens, embedding, and model information."
   ]
  },
  {
   "cell_type": "markdown",
   "id": "5e684241-637f-4a7e-8822-ff6b4715b7e3",
   "metadata": {},
   "source": [
    "---"
   ]
  },
  {
   "cell_type": "markdown",
   "id": "df81b74f-dbec-45e7-bce6-e7b7ef819044",
   "metadata": {},
   "source": [
    "## Shell Command Execution"
   ]
  },
  {
   "cell_type": "code",
   "execution_count": 2,
   "id": "e71120c7-2889-4463-bfb5-590522482ab9",
   "metadata": {},
   "outputs": [],
   "source": [
    "use std::process::{Command, Output, Stdio};\n",
    "\n",
    "// A helper function to execute a shell command from a Rust script\n",
    "fn execute_command(command: &str) -> Result<(), std::io::Error> {\n",
    "    let status = Command::new(\"bash\")\n",
    "        .arg(\"-c\")\n",
    "        .arg(command)\n",
    "        .stderr(Stdio::inherit())\n",
    "        .status()?;\n",
    "\n",
    "    if status.success() {\n",
    "        Ok(())\n",
    "    } else {\n",
    "        Err(std::io::Error::from_raw_os_error(status.code().unwrap_or(1)))\n",
    "    }\n",
    "}"
   ]
  },
  {
   "cell_type": "markdown",
   "id": "889449a2-22d1-42f9-97b1-bd8e5ff4fd9a",
   "metadata": {},
   "source": [
    "## Run Server"
   ]
  },
  {
   "cell_type": "code",
   "execution_count": null,
   "id": "483490a1-440b-4e83-8429-a87b16dfb1b5",
   "metadata": {},
   "outputs": [
    {
     "name": "stdout",
     "output_type": "stream",
     "text": [
      "\n",
      "*** Running the server locally... ***\n",
      "\n",
      "\n"
     ]
    },
    {
     "name": "stderr",
     "output_type": "stream",
     "text": [
      "    Finished release [optimized] target(s) in 0.09s\n",
      "     Running `target/release/server`\n"
     ]
    },
    {
     "name": "stdout",
     "output_type": "stream",
     "text": [
      "\u001b[2m2024-03-03T15:03:26.629057Z\u001b[0m \u001b[34mDEBUG\u001b[0m \u001b[2mreqwest::connect\u001b[0m\u001b[2m:\u001b[0m starting new connection: https://generativelanguage.googleapis.com/    \n",
      "\u001b[2m2024-03-03T15:03:26.629247Z\u001b[0m \u001b[34mDEBUG\u001b[0m \u001b[2mhyper::client::connect::dns\u001b[0m\u001b[2m:\u001b[0m resolving host=\"generativelanguage.googleapis.com\"\n",
      "\u001b[2m2024-03-03T15:03:26.630650Z\u001b[0m \u001b[34mDEBUG\u001b[0m \u001b[2mhyper::client::connect::http\u001b[0m\u001b[2m:\u001b[0m connecting to 172.217.171.202:443\n",
      "\u001b[2m2024-03-03T15:03:26.932322Z\u001b[0m \u001b[34mDEBUG\u001b[0m \u001b[2mhyper::client::connect::http\u001b[0m\u001b[2m:\u001b[0m connecting to [2a00:1450:4006:800::200a]:443\n",
      "\u001b[2m2024-03-03T15:03:26.932411Z\u001b[0m \u001b[34mDEBUG\u001b[0m \u001b[2mhyper::client::connect::http\u001b[0m\u001b[2m:\u001b[0m connecting to [2a00:1450:4006:803::200a]:443\n",
      "\u001b[2m2024-03-03T15:03:26.932458Z\u001b[0m \u001b[34mDEBUG\u001b[0m \u001b[2mhyper::client::connect::http\u001b[0m\u001b[2m:\u001b[0m connecting to [2a00:1450:4006:807::200a]:443\n",
      "\u001b[2m2024-03-03T15:03:26.932495Z\u001b[0m \u001b[34mDEBUG\u001b[0m \u001b[2mhyper::client::connect::http\u001b[0m\u001b[2m:\u001b[0m connecting to [2a00:1450:4006:80a::200a]:443\n",
      "\u001b[2m2024-03-03T15:03:27.507017Z\u001b[0m \u001b[34mDEBUG\u001b[0m \u001b[2mhyper::client::connect::http\u001b[0m\u001b[2m:\u001b[0m connected to 172.217.171.202:443\n",
      "\u001b[2m2024-03-03T15:03:35.088158Z\u001b[0m \u001b[34mDEBUG\u001b[0m \u001b[2mhyper::proto::h1::io\u001b[0m\u001b[2m:\u001b[0m flushed 280 bytes\n",
      "\u001b[2m2024-03-03T15:03:36.816976Z\u001b[0m \u001b[34mDEBUG\u001b[0m \u001b[2mhyper::proto::h1::io\u001b[0m\u001b[2m:\u001b[0m parsed 14 headers\n",
      "\u001b[2m2024-03-03T15:03:36.816994Z\u001b[0m \u001b[34mDEBUG\u001b[0m \u001b[2mhyper::proto::h1::conn\u001b[0m\u001b[2m:\u001b[0m incoming body is chunked encoding\n",
      "\u001b[2m2024-03-03T15:03:36.817007Z\u001b[0m \u001b[34mDEBUG\u001b[0m \u001b[2mhyper::proto::h1::decode\u001b[0m\u001b[2m:\u001b[0m incoming chunked header: 0x4B4 (1204 bytes)\n",
      "\u001b[2m2024-03-03T15:03:36.817164Z\u001b[0m \u001b[34mDEBUG\u001b[0m \u001b[2mhyper::proto::h1::conn\u001b[0m\u001b[2m:\u001b[0m incoming body completed\n",
      "\u001b[2m2024-03-03T15:03:36.817196Z\u001b[0m \u001b[34mDEBUG\u001b[0m \u001b[2mhyper::client::pool\u001b[0m\u001b[2m:\u001b[0m pooling idle connection for (\"https\", generativelanguage.googleapis.com)\n",
      "\u001b[2m2024-03-03T15:03:37.555191Z\u001b[0m \u001b[34mDEBUG\u001b[0m \u001b[2mhyper::client::pool\u001b[0m\u001b[2m:\u001b[0m reuse idle connection for (\"https\", generativelanguage.googleapis.com)\n",
      "\u001b[2m2024-03-03T15:03:37.555373Z\u001b[0m \u001b[34mDEBUG\u001b[0m \u001b[2mhyper::proto::h1::io\u001b[0m\u001b[2m:\u001b[0m flushed 286 bytes\n",
      "\u001b[2m2024-03-03T15:03:42.173067Z\u001b[0m \u001b[34mDEBUG\u001b[0m \u001b[2mhyper::proto::h1::io\u001b[0m\u001b[2m:\u001b[0m parsed 14 headers\n",
      "\u001b[2m2024-03-03T15:03:42.173081Z\u001b[0m \u001b[34mDEBUG\u001b[0m \u001b[2mhyper::proto::h1::conn\u001b[0m\u001b[2m:\u001b[0m incoming body is chunked encoding\n",
      "\u001b[2m2024-03-03T15:03:42.173101Z\u001b[0m \u001b[34mDEBUG\u001b[0m \u001b[2mhyper::proto::h1::decode\u001b[0m\u001b[2m:\u001b[0m incoming chunked header: 0x4BD (1213 bytes)\n",
      "\n",
      "\n",
      "\u001b[2m2024-03-03T15:03:42.189887Z\u001b[0m \u001b[34mDEBUG\u001b[0m \u001b[2mhyper::proto::h1::decode\u001b[0m\u001b[2m:\u001b[0m incoming chunked header: 0x1 (1 bytes)\n",
      "\u001b[2m2024-03-03T15:03:42.190023Z\u001b[0m \u001b[34mDEBUG\u001b[0m \u001b[2mhyper::proto::h1::conn\u001b[0m\u001b[2m:\u001b[0m incoming body completed\n",
      "\u001b[2m2024-03-03T15:03:42.190056Z\u001b[0m \u001b[34mDEBUG\u001b[0m \u001b[2mhyper::client::pool\u001b[0m\u001b[2m:\u001b[0m pooling idle connection for (\"https\", generativelanguage.googleapis.com)\n",
      "\n",
      "\u001b[2m2024-03-03T15:03:43.051288Z\u001b[0m \u001b[34mDEBUG\u001b[0m \u001b[2mhyper::client::pool\u001b[0m\u001b[2m:\u001b[0m reuse idle connection for (\"https\", generativelanguage.googleapis.com)\n",
      "\u001b[2m2024-03-03T15:03:43.051467Z\u001b[0m \u001b[34mDEBUG\u001b[0m \u001b[2mhyper::proto::h1::io\u001b[0m\u001b[2m:\u001b[0m flushed 276 bytes\n",
      "\u001b[2m2024-03-03T15:03:43.256432Z\u001b[0m \u001b[34mDEBUG\u001b[0m \u001b[2mhyper::proto::h1::io\u001b[0m\u001b[2m:\u001b[0m parsed 14 headers\n",
      "\u001b[2m2024-03-03T15:03:43.256449Z\u001b[0m \u001b[34mDEBUG\u001b[0m \u001b[2mhyper::proto::h1::conn\u001b[0m\u001b[2m:\u001b[0m incoming body is chunked encoding\n",
      "\u001b[2m2024-03-03T15:03:43.256462Z\u001b[0m \u001b[34mDEBUG\u001b[0m \u001b[2mhyper::proto::h1::decode\u001b[0m\u001b[2m:\u001b[0m incoming chunked header: 0x17 (23 bytes)\n",
      "\u001b[2m2024-03-03T15:03:43.256607Z\u001b[0m \u001b[34mDEBUG\u001b[0m \u001b[2mhyper::proto::h1::conn\u001b[0m\u001b[2m:\u001b[0m incoming body completed\n",
      "\u001b[2m2024-03-03T15:03:43.256639Z\u001b[0m \u001b[34mDEBUG\u001b[0m \u001b[2mhyper::client::pool\u001b[0m\u001b[2m:\u001b[0m pooling idle connection for (\"https\", generativelanguage.googleapis.com)\n",
      "\u001b[2m2024-03-03T15:03:45.991197Z\u001b[0m \u001b[34mDEBUG\u001b[0m \u001b[2mreqwest::connect\u001b[0m\u001b[2m:\u001b[0m starting new connection: https://generativelanguage.googleapis.com/    \n",
      "\u001b[2m2024-03-03T15:03:45.991333Z\u001b[0m \u001b[34mDEBUG\u001b[0m \u001b[2mhyper::client::connect::dns\u001b[0m\u001b[2m:\u001b[0m resolving host=\"generativelanguage.googleapis.com\"\n",
      "\u001b[2m2024-03-03T15:03:45.992023Z\u001b[0m \u001b[34mDEBUG\u001b[0m \u001b[2mhyper::client::connect::http\u001b[0m\u001b[2m:\u001b[0m connecting to 216.58.212.106:443\n",
      "\u001b[2m2024-03-03T15:03:46.006701Z\u001b[0m \u001b[34mDEBUG\u001b[0m \u001b[2mhyper::client::connect::http\u001b[0m\u001b[2m:\u001b[0m connected to 216.58.212.106:443\n",
      "\u001b[2m2024-03-03T15:03:46.135876Z\u001b[0m \u001b[34mDEBUG\u001b[0m \u001b[2mhyper::proto::h1::io\u001b[0m\u001b[2m:\u001b[0m flushed 280 bytes\n",
      "\u001b[2m2024-03-03T15:03:46.989660Z\u001b[0m \u001b[34mDEBUG\u001b[0m \u001b[2mhyper::proto::h1::io\u001b[0m\u001b[2m:\u001b[0m parsed 14 headers\n",
      "\u001b[2m2024-03-03T15:03:46.989675Z\u001b[0m \u001b[34mDEBUG\u001b[0m \u001b[2mhyper::proto::h1::conn\u001b[0m\u001b[2m:\u001b[0m incoming body is chunked encoding\n",
      "\u001b[2m2024-03-03T15:03:46.989686Z\u001b[0m \u001b[34mDEBUG\u001b[0m \u001b[2mhyper::proto::h1::decode\u001b[0m\u001b[2m:\u001b[0m incoming chunked header: 0x3A24 (14884 bytes)\n",
      "\u001b[2m2024-03-03T15:03:47.072538Z\u001b[0m \u001b[34mDEBUG\u001b[0m \u001b[2mhyper::proto::h1::conn\u001b[0m\u001b[2m:\u001b[0m incoming body completed\n",
      "\u001b[2m2024-03-03T15:03:47.072571Z\u001b[0m \u001b[34mDEBUG\u001b[0m \u001b[2mhyper::client::pool\u001b[0m\u001b[2m:\u001b[0m pooling idle connection for (\"https\", generativelanguage.googleapis.com)\n"
     ]
    }
   ],
   "source": [
    "let command = \"cd ./axum && make run\";\n",
    "\n",
    "if let Err(err) = execute_command(command) {\n",
    "    eprintln!(\"Error executing command: {}\", err);\n",
    "}"
   ]
  },
  {
   "cell_type": "markdown",
   "id": "f781559d-bf2c-4b1d-9296-8a23244296fa",
   "metadata": {},
   "source": [
    "---"
   ]
  }
 ],
 "metadata": {
  "kernelspec": {
   "display_name": "Rust",
   "language": "rust",
   "name": "rust"
  },
  "language_info": {
   "codemirror_mode": "rust",
   "file_extension": ".rs",
   "mimetype": "text/rust",
   "name": "Rust",
   "pygment_lexer": "rust",
   "version": ""
  }
 },
 "nbformat": 4,
 "nbformat_minor": 5
}
