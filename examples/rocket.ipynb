{
 "cells": [
  {
   "cell_type": "markdown",
   "id": "90feaab5-b830-40a4-8c62-f8c4be4f18a6",
   "metadata": {},
   "source": [
    "# Gems Rocket Usage"
   ]
  },
  {
   "cell_type": "markdown",
   "id": "3c9f56b9-20d7-4bf9-baf4-55e1b2971dba",
   "metadata": {},
   "source": [
    "This Jupyter Notebook provides a guide on using the [**`gems`**](https://github.com/wiseaidev/gems) SDK and the Rocket framework in Rust to interact with the Gemini API. The [**Gemini API**](https://ai.google.dev/docs) allows you to generate creative content using large language models. In this notebook, we'll cover various aspects of using Gemini, including text-only input, text-and-image input, multi-turn conversations, configuration options, streaming content generation, counting tokens, embedding, and model information.\n",
    "\n",
    "Let's start by installing the sdk to run the code snippets in this notebook."
   ]
  },
  {
   "cell_type": "markdown",
   "id": "5e684241-637f-4a7e-8822-ff6b4715b7e3",
   "metadata": {},
   "source": [
    "---"
   ]
  },
  {
   "cell_type": "markdown",
   "id": "df81b74f-dbec-45e7-bce6-e7b7ef819044",
   "metadata": {},
   "source": [
    "## Shell Command Execution"
   ]
  },
  {
   "cell_type": "code",
   "execution_count": 2,
   "id": "e71120c7-2889-4463-bfb5-590522482ab9",
   "metadata": {},
   "outputs": [],
   "source": [
    "use std::process::{Command, Output, Stdio};\n",
    "\n",
    "// A helper function to execute a shell command from a Rust script\n",
    "fn execute_command(command: &str) -> Result<(), std::io::Error> {\n",
    "    let status = Command::new(\"bash\")\n",
    "        .arg(\"-c\")\n",
    "        .arg(command)\n",
    "        .stderr(Stdio::inherit())\n",
    "        .status()?;\n",
    "\n",
    "    if status.success() {\n",
    "        Ok(())\n",
    "    } else {\n",
    "        Err(std::io::Error::from_raw_os_error(status.code().unwrap_or(1)))\n",
    "    }\n",
    "}"
   ]
  },
  {
   "cell_type": "markdown",
   "id": "889449a2-22d1-42f9-97b1-bd8e5ff4fd9a",
   "metadata": {},
   "source": [
    "## Run Server"
   ]
  },
  {
   "cell_type": "code",
   "execution_count": null,
   "id": "483490a1-440b-4e83-8429-a87b16dfb1b5",
   "metadata": {},
   "outputs": [
    {
     "name": "stdout",
     "output_type": "stream",
     "text": [
      "\n",
      "*** Running the server locally... ***\n",
      "\n",
      "\n"
     ]
    },
    {
     "name": "stderr",
     "output_type": "stream",
     "text": [
      "    Finished release [optimized] target(s) in 0.12s\n",
      "     Running `target/release/server`\n"
     ]
    },
    {
     "name": "stdout",
     "output_type": "stream",
     "text": [
      "Rocket has launched from http://127.0.0.1:8000\n",
      "{\n"
     ]
    }
   ],
   "source": [
    "let command = \"cd ./rocket && make run\";\n",
    "\n",
    "if let Err(err) = execute_command(command) {\n",
    "    eprintln!(\"Error executing command: {}\", err);\n",
    "}\n",
    "\n",
    "// Replace Your_API_Key above with your actual API key"
   ]
  },
  {
   "cell_type": "markdown",
   "id": "f781559d-bf2c-4b1d-9296-8a23244296fa",
   "metadata": {},
   "source": [
    "---"
   ]
  }
 ],
 "metadata": {
  "kernelspec": {
   "display_name": "Rust",
   "language": "rust",
   "name": "rust"
  },
  "language_info": {
   "codemirror_mode": "rust",
   "file_extension": ".rs",
   "mimetype": "text/rust",
   "name": "Rust",
   "pygment_lexer": "rust",
   "version": ""
  }
 },
 "nbformat": 4,
 "nbformat_minor": 5
}
